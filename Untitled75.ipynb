{
  "nbformat": 4,
  "nbformat_minor": 0,
  "metadata": {
    "colab": {
      "provenance": [],
      "authorship_tag": "ABX9TyMi00zkNIWY2DQuG+fuoYyq",
      "include_colab_link": true
    },
    "kernelspec": {
      "name": "python3",
      "display_name": "Python 3"
    },
    "language_info": {
      "name": "python"
    }
  },
  "cells": [
    {
      "cell_type": "markdown",
      "metadata": {
        "id": "view-in-github",
        "colab_type": "text"
      },
      "source": [
        "<a href=\"https://colab.research.google.com/github/trippleooo/SPEECH-RECOGNITION-APP/blob/main/Untitled75.ipynb\" target=\"_parent\"><img src=\"https://colab.research.google.com/assets/colab-badge.svg\" alt=\"Open In Colab\"/></a>"
      ]
    },
    {
      "cell_type": "code",
      "execution_count": null,
      "metadata": {
        "id": "QRUwFNraOTuq"
      },
      "outputs": [],
      "source": [
        "import streamlit as st\n",
        "import speech_recognition as sr\n",
        "import os\n",
        "\n",
        "LANGUAGES = {\n",
        "    \"English (US)\": \"en-US\",\n",
        "    \"French\": \"fr-FR\",\n",
        "    \"Swahili\": \"sw-KE\"\n",
        "}\n",
        "\n",
        "APIS = [\"Google\", \"Sphinx\"]\n",
        "\n",
        "def transcribe_speech(api_choice, language):\n",
        "    r = sr.Recognizer()\n",
        "    with sr.Microphone() as source:\n",
        "        st.info(\"Speak now...\")\n",
        "        try:\n",
        "            audio_text = r.listen(source, timeout=5, phrase_time_limit=10)\n",
        "            st.info(\"Transcribing...\")\n",
        "\n",
        "            if api_choice == \"Google\":\n",
        "                return r.recognize_google(audio_text, language=language)\n",
        "            elif api_choice == \"Sphinx\":\n",
        "                return r.recognize_sphinx(audio_text, language=language)\n",
        "            else:\n",
        "                return \"Unsupported API selected.\"\n",
        "        except sr.WaitTimeoutError:\n",
        "            return \"No speech detected. Please try again.\"\n",
        "        except sr.UnknownValueError:\n",
        "            return \"Sorry, I couldn’t understand you.\"\n",
        "        except sr.RequestError as e:\n",
        "            return f\"API error: {str(e)}\"\n",
        "        except Exception as e:\n",
        "            return f\"Unexpected error: {str(e)}\"\n",
        "\n",
        "def save_transcription(text):\n",
        "    if text:\n",
        "        with open(\"transcription.txt\", \"a\") as f:\n",
        "            f.write(text + \"\\n\")\n",
        "        st.success(\"Transcription saved to 'transcription.txt'.\")\n",
        "\n",
        "def main():\n",
        "    st.set_page_config(page_title=\"Speech Recognition App\", layout=\"centered\")\n",
        "    st.title(\"Speech Recognition App\")\n",
        "    st.markdown(\"Speak and see your words converted into text!\")\n",
        "\n",
        "    language = st.selectbox(\"Select Language\", list(LANGUAGES.keys()))\n",
        "    lang_code = LANGUAGES[language]\n",
        "\n",
        "    api_choice = st.radio(\"Choose Recognition API\", APIS)\n",
        "\n",
        "    if st.button(\"Start Recording\"):\n",
        "        text = transcribe_speech(api_choice, lang_code)\n",
        "        st.write(\"**Transcription:**\", text)\n",
        "\n",
        "        if text and \"Sorry\" not in text:\n",
        "            if st.checkbox(\"Save this transcription?\"):\n",
        "                save_transcription(text)\n",
        "\n",
        "    if os.path.exists(\"transcription.txt\"):\n",
        "        with open(\"transcription.txt\", \"r\") as f:\n",
        "            st.text_area(\"Saved Transcriptions\", f.read(), height=200)\n",
        "\n",
        "if __name__ == \"__main__\":\n",
        "    main()"
      ]
    }
  ]
}